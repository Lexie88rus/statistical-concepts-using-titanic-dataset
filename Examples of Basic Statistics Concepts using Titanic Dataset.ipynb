{
 "cells": [
  {
   "cell_type": "markdown",
   "metadata": {},
   "source": [
    "# Examples of Basic Statistics Concepts using Titanic Dataset"
   ]
  },
  {
   "cell_type": "code",
   "execution_count": 29,
   "metadata": {},
   "outputs": [],
   "source": [
    "# Import math and data manipulation\n",
    "\n",
    "import numpy as np\n",
    "import pandas as pd\n",
    "import math\n",
    "\n",
    "# import visualization\n",
    "import matplotlib.pyplot as plt\n",
    "\n",
    "# load the dataset\n",
    "\n",
    "df = pd.read_csv('./titanic/train.csv')"
   ]
  },
  {
   "cell_type": "markdown",
   "metadata": {},
   "source": [
    "## Introduction"
   ]
  },
  {
   "cell_type": "markdown",
   "metadata": {},
   "source": [
    "Knowledge of statistics is essential for data scientists. The following are the examples of applications of statistics for data science:\n",
    "* Optain the general understanding and description of the data: data types, measurement of general tendency of the data and its dispersion.\n",
    "* Find out possible outliers in data.\n",
    "* Find out possible dependencies between different features in dataset.\n",
    "* Build machine learning models, which use statistical concepts, such as Naive Bayes or Estimation Maximization algorithms.\n",
    "* Measure statistical significance of the results of the experiments.\n",
    "\n",
    "In this kernel I would like to introduce some of the statistical concepts and give examples using Titanic dataset. This is how the data looks like:"
   ]
  },
  {
   "cell_type": "code",
   "execution_count": 2,
   "metadata": {},
   "outputs": [
    {
     "data": {
      "text/html": [
       "<div>\n",
       "<style scoped>\n",
       "    .dataframe tbody tr th:only-of-type {\n",
       "        vertical-align: middle;\n",
       "    }\n",
       "\n",
       "    .dataframe tbody tr th {\n",
       "        vertical-align: top;\n",
       "    }\n",
       "\n",
       "    .dataframe thead th {\n",
       "        text-align: right;\n",
       "    }\n",
       "</style>\n",
       "<table border=\"1\" class=\"dataframe\">\n",
       "  <thead>\n",
       "    <tr style=\"text-align: right;\">\n",
       "      <th></th>\n",
       "      <th>PassengerId</th>\n",
       "      <th>Survived</th>\n",
       "      <th>Pclass</th>\n",
       "      <th>Name</th>\n",
       "      <th>Sex</th>\n",
       "      <th>Age</th>\n",
       "      <th>SibSp</th>\n",
       "      <th>Parch</th>\n",
       "      <th>Ticket</th>\n",
       "      <th>Fare</th>\n",
       "      <th>Cabin</th>\n",
       "      <th>Embarked</th>\n",
       "    </tr>\n",
       "  </thead>\n",
       "  <tbody>\n",
       "    <tr>\n",
       "      <th>0</th>\n",
       "      <td>1</td>\n",
       "      <td>0</td>\n",
       "      <td>3</td>\n",
       "      <td>Braund, Mr. Owen Harris</td>\n",
       "      <td>male</td>\n",
       "      <td>22.0</td>\n",
       "      <td>1</td>\n",
       "      <td>0</td>\n",
       "      <td>A/5 21171</td>\n",
       "      <td>7.2500</td>\n",
       "      <td>NaN</td>\n",
       "      <td>S</td>\n",
       "    </tr>\n",
       "    <tr>\n",
       "      <th>1</th>\n",
       "      <td>2</td>\n",
       "      <td>1</td>\n",
       "      <td>1</td>\n",
       "      <td>Cumings, Mrs. John Bradley (Florence Briggs Th...</td>\n",
       "      <td>female</td>\n",
       "      <td>38.0</td>\n",
       "      <td>1</td>\n",
       "      <td>0</td>\n",
       "      <td>PC 17599</td>\n",
       "      <td>71.2833</td>\n",
       "      <td>C85</td>\n",
       "      <td>C</td>\n",
       "    </tr>\n",
       "    <tr>\n",
       "      <th>2</th>\n",
       "      <td>3</td>\n",
       "      <td>1</td>\n",
       "      <td>3</td>\n",
       "      <td>Heikkinen, Miss. Laina</td>\n",
       "      <td>female</td>\n",
       "      <td>26.0</td>\n",
       "      <td>0</td>\n",
       "      <td>0</td>\n",
       "      <td>STON/O2. 3101282</td>\n",
       "      <td>7.9250</td>\n",
       "      <td>NaN</td>\n",
       "      <td>S</td>\n",
       "    </tr>\n",
       "    <tr>\n",
       "      <th>3</th>\n",
       "      <td>4</td>\n",
       "      <td>1</td>\n",
       "      <td>1</td>\n",
       "      <td>Futrelle, Mrs. Jacques Heath (Lily May Peel)</td>\n",
       "      <td>female</td>\n",
       "      <td>35.0</td>\n",
       "      <td>1</td>\n",
       "      <td>0</td>\n",
       "      <td>113803</td>\n",
       "      <td>53.1000</td>\n",
       "      <td>C123</td>\n",
       "      <td>S</td>\n",
       "    </tr>\n",
       "    <tr>\n",
       "      <th>4</th>\n",
       "      <td>5</td>\n",
       "      <td>0</td>\n",
       "      <td>3</td>\n",
       "      <td>Allen, Mr. William Henry</td>\n",
       "      <td>male</td>\n",
       "      <td>35.0</td>\n",
       "      <td>0</td>\n",
       "      <td>0</td>\n",
       "      <td>373450</td>\n",
       "      <td>8.0500</td>\n",
       "      <td>NaN</td>\n",
       "      <td>S</td>\n",
       "    </tr>\n",
       "  </tbody>\n",
       "</table>\n",
       "</div>"
      ],
      "text/plain": [
       "   PassengerId  Survived  Pclass  \\\n",
       "0            1         0       3   \n",
       "1            2         1       1   \n",
       "2            3         1       3   \n",
       "3            4         1       1   \n",
       "4            5         0       3   \n",
       "\n",
       "                                                Name     Sex   Age  SibSp  \\\n",
       "0                            Braund, Mr. Owen Harris    male  22.0      1   \n",
       "1  Cumings, Mrs. John Bradley (Florence Briggs Th...  female  38.0      1   \n",
       "2                             Heikkinen, Miss. Laina  female  26.0      0   \n",
       "3       Futrelle, Mrs. Jacques Heath (Lily May Peel)  female  35.0      1   \n",
       "4                           Allen, Mr. William Henry    male  35.0      0   \n",
       "\n",
       "   Parch            Ticket     Fare Cabin Embarked  \n",
       "0      0         A/5 21171   7.2500   NaN        S  \n",
       "1      0          PC 17599  71.2833   C85        C  \n",
       "2      0  STON/O2. 3101282   7.9250   NaN        S  \n",
       "3      0            113803  53.1000  C123        S  \n",
       "4      0            373450   8.0500   NaN        S  "
      ]
     },
     "execution_count": 2,
     "metadata": {},
     "output_type": "execute_result"
    }
   ],
   "source": [
    "df.head()"
   ]
  },
  {
   "cell_type": "markdown",
   "metadata": {},
   "source": [
    "## Describe the Data"
   ]
  },
  {
   "cell_type": "markdown",
   "metadata": {},
   "source": [
    "Statistical concepts are widely used to describe what the data is like: types of variables in the dataset and what are the values of the variables.\n",
    "\n",
    "### 1. Data Types\n",
    "There are 4 main types of the data:\n",
    "* __Nominal__: the values fall into predetermined categories and can not be sorted. The following columns are nominal for Titanic dataset: Sex, Embarked, Survived.\n",
    "* __Ordinal__: the values can be sorted, but there is no scale. Pclass variable is the example of ordinal column.\n",
    "* __Interval__: the values can be sorted and there is a scale, but there is no zero point for the values (column with a temperature measurements in a dataset could be an example of interval data type). \n",
    "* __Ratio__: the values can be sorted, there is a scale and a zero point for the values. The following columns are ratio: Age, SibSp, Parch, Fare.\n",
    "\n",
    "### 2. Central Tendency of the Data\n",
    "For interval and ratio data types we can describe th central tandency of the values. Central tendency can be described using the following concepts:\n",
    "* __Mean__: calculated average of the values.\n",
    "* __Median__: the middle value.\n",
    "* __Mode__: the most occuring value. There can be several modes for the variable.\n",
    "\n",
    "Let's calculate mean, median and mode for the __Age__ values in the dataset:"
   ]
  },
  {
   "cell_type": "markdown",
   "metadata": {},
   "source": [
    "Find out the mean value:"
   ]
  },
  {
   "cell_type": "code",
   "execution_count": 3,
   "metadata": {},
   "outputs": [
    {
     "name": "stdout",
     "output_type": "stream",
     "text": [
      "The mean value for Age is 29.69911764705882\n"
     ]
    }
   ],
   "source": [
    "# calculate mean value manually\n",
    "df_1 = df.dropna(axis = 0, subset = ['Age']) #remove rows with empty values for Age first\n",
    "mean_1 = sum(df_1['Age'].values)/len(df_1)\n",
    "print(\"The mean value for Age is {mean}\".format(mean = mean_1))"
   ]
  },
  {
   "cell_type": "code",
   "execution_count": 4,
   "metadata": {},
   "outputs": [
    {
     "name": "stdout",
     "output_type": "stream",
     "text": [
      "The mean value for Age is 29.69911764705882\n"
     ]
    }
   ],
   "source": [
    "# calculate mean value using pandas\n",
    "mean_2 = df['Age'].mean()\n",
    "\n",
    "print(\"The mean value for Age is {mean}\".format(mean = mean_2))"
   ]
  },
  {
   "cell_type": "markdown",
   "metadata": {},
   "source": [
    "Find out the median value [using this stackoverflow topic to find median manually](https://stackoverflow.com/questions/24101524/finding-median-of-list-in-python):"
   ]
  },
  {
   "cell_type": "code",
   "execution_count": 5,
   "metadata": {},
   "outputs": [
    {
     "name": "stdout",
     "output_type": "stream",
     "text": [
      "The median value for Age is 28.0\n"
     ]
    }
   ],
   "source": [
    "# calculate median manually\n",
    "\n",
    "def median(lst):\n",
    "    quotient, remainder = divmod(len(lst), 2)\n",
    "    if remainder:\n",
    "        return sorted(lst)[quotient]\n",
    "    return sum(sorted(lst)[quotient - 1:quotient + 1]) / 2.\n",
    "\n",
    "median_1 = median(df_1['Age'].values)\n",
    "\n",
    "print(\"The median value for Age is {median}\".format(median = median_1))"
   ]
  },
  {
   "cell_type": "code",
   "execution_count": 6,
   "metadata": {},
   "outputs": [
    {
     "name": "stdout",
     "output_type": "stream",
     "text": [
      "The median value for Age is 28.0\n"
     ]
    }
   ],
   "source": [
    "# calculate median using pandas\n",
    "\n",
    "median_2 = df['Age'].median()\n",
    "\n",
    "print(\"The median value for Age is {median}\".format(median = median_2))"
   ]
  },
  {
   "cell_type": "markdown",
   "metadata": {},
   "source": [
    "Find out the mode values [using this stackoverflow topic to find mode for a list manually](https://stackoverflow.com/questions/10797819/finding-the-mode-of-a-list):"
   ]
  },
  {
   "cell_type": "code",
   "execution_count": 7,
   "metadata": {},
   "outputs": [
    {
     "name": "stdout",
     "output_type": "stream",
     "text": [
      "The mode value for Age is 24.0\n"
     ]
    }
   ],
   "source": [
    "# find out mode manually\n",
    "\n",
    "def mode(arr) :\n",
    "    m = max([arr.count(a) for a in arr])\n",
    "    return [x for x in arr if arr.count(x) == m][0] if m>1 else None\n",
    "\n",
    "mode_1 = mode(df_1['Age'].values.tolist())\n",
    "\n",
    "print(\"The mode value for Age is {mode}\".format(mode = mode_1))"
   ]
  },
  {
   "cell_type": "code",
   "execution_count": 8,
   "metadata": {},
   "outputs": [
    {
     "name": "stdout",
     "output_type": "stream",
     "text": [
      "The mode value for Age is 24.0 (Taking only 1st discovered mode value.)\n"
     ]
    }
   ],
   "source": [
    "# find out mode using pandas\n",
    "\n",
    "mode_2 = df['Age'].mode()\n",
    "\n",
    "print(\"The mode value for Age is {mode} (Taking only 1st discovered mode value.)\".format(mode = mode_2[0]))"
   ]
  },
  {
   "cell_type": "markdown",
   "metadata": {},
   "source": [
    "### 3. Dispertion of the Data"
   ]
  },
  {
   "cell_type": "markdown",
   "metadata": {},
   "source": [
    "The following terms are used to describe the dispersion of the data:\n",
    "1. __Range__: minumum and maximum values.\n",
    "2. __Variance__: the sum of square distances from each point of the data to the mean.\n",
    "3. __Standard deviation__: the square root of the variance. Standard deviation is widely used because unlike the variance it is expressed in the same units as the values, while the variance is expressed in square units.\n",
    "4. __Quartiles and Interquartile Range__: The data points can be divided into [quartiles](https://en.wikipedia.org/wiki/Quartile). The 1st quartile (Q1) splits off the lowest 25% of data from the highest 75%, the 2nd quartile (Q2) cuts data set in half and the 3rd quartile (Q3) splits off the highest 25% of data from the lowest 75%. "
   ]
  },
  {
   "cell_type": "markdown",
   "metadata": {},
   "source": [
    "So let's calculate range, variance, standard deviation and find out and visualize the quartiles."
   ]
  },
  {
   "cell_type": "markdown",
   "metadata": {},
   "source": [
    "Calculation of minimun and maximum values for 'Age' column:"
   ]
  },
  {
   "cell_type": "code",
   "execution_count": 9,
   "metadata": {},
   "outputs": [
    {
     "name": "stdout",
     "output_type": "stream",
     "text": [
      "The minimum value for Age is 0.42 and maximum value is 80.0\n"
     ]
    }
   ],
   "source": [
    "# calculate min and max values using pandas\n",
    "\n",
    "min_age = df['Age'].min()\n",
    "\n",
    "max_age = df['Age'].max()\n",
    "\n",
    "print(\"The minimum value for Age is {min_age} and maximum value is {max_age}\".format(min_age = min_age, max_age = max_age))"
   ]
  },
  {
   "cell_type": "markdown",
   "metadata": {},
   "source": [
    "Find out variance:"
   ]
  },
  {
   "cell_type": "code",
   "execution_count": 17,
   "metadata": {},
   "outputs": [
    {
     "name": "stdout",
     "output_type": "stream",
     "text": [
      "The variance for Age is 210.7235797536662\n"
     ]
    }
   ],
   "source": [
    "# calculate variance manually\n",
    "\n",
    "var_1 = sum((xi - mean_1) ** 2 for xi in df_1['Age'].values.tolist()) / len(df_1['Age'].values.tolist())\n",
    "    \n",
    "print(\"The variance for Age is {var_1}\".format(var_1 = var_1))"
   ]
  },
  {
   "cell_type": "code",
   "execution_count": 19,
   "metadata": {},
   "outputs": [
    {
     "name": "stdout",
     "output_type": "stream",
     "text": [
      "The variance for Age is 210.72357975366617\n"
     ]
    }
   ],
   "source": [
    "# calculate variance using numpy\n",
    "\n",
    "var_2 = np.var(df_1['Age'].values.tolist())\n",
    "\n",
    "print(\"The variance for Age is {var_2}\".format(var_2 = var_2))"
   ]
  },
  {
   "cell_type": "markdown",
   "metadata": {},
   "source": [
    "Find out standard deviation:"
   ]
  },
  {
   "cell_type": "code",
   "execution_count": 27,
   "metadata": {},
   "outputs": [
    {
     "name": "stdout",
     "output_type": "stream",
     "text": [
      "The standard deviation for Age is 14.516321150817317\n"
     ]
    }
   ],
   "source": [
    "## calculate standard deviation as a square root of variance\n",
    "\n",
    "stdev_1 = math.sqrt(var_1)\n",
    "\n",
    "print(\"The standard deviation for Age is {stdev_1}\".format(stdev_1 = stdev_1))"
   ]
  },
  {
   "cell_type": "code",
   "execution_count": 26,
   "metadata": {},
   "outputs": [
    {
     "name": "stdout",
     "output_type": "stream",
     "text": [
      "The standard deviation for Age is 14.526497332334044\n"
     ]
    }
   ],
   "source": [
    "# calculate standard deviation using pandas\n",
    "\n",
    "stdev_2 = df['Age'].std()\n",
    "\n",
    "print(\"The standard deviation for Age is {stdev_2}\".format(stdev_2 = stdev_2))"
   ]
  },
  {
   "cell_type": "markdown",
   "metadata": {},
   "source": [
    "We can also find out all this information and quartiles using pandas DataFrame.describe method:"
   ]
  },
  {
   "cell_type": "code",
   "execution_count": 28,
   "metadata": {},
   "outputs": [
    {
     "data": {
      "text/html": [
       "<div>\n",
       "<style scoped>\n",
       "    .dataframe tbody tr th:only-of-type {\n",
       "        vertical-align: middle;\n",
       "    }\n",
       "\n",
       "    .dataframe tbody tr th {\n",
       "        vertical-align: top;\n",
       "    }\n",
       "\n",
       "    .dataframe thead th {\n",
       "        text-align: right;\n",
       "    }\n",
       "</style>\n",
       "<table border=\"1\" class=\"dataframe\">\n",
       "  <thead>\n",
       "    <tr style=\"text-align: right;\">\n",
       "      <th></th>\n",
       "      <th>PassengerId</th>\n",
       "      <th>Survived</th>\n",
       "      <th>Pclass</th>\n",
       "      <th>Age</th>\n",
       "      <th>SibSp</th>\n",
       "      <th>Parch</th>\n",
       "      <th>Fare</th>\n",
       "    </tr>\n",
       "  </thead>\n",
       "  <tbody>\n",
       "    <tr>\n",
       "      <th>count</th>\n",
       "      <td>891.000000</td>\n",
       "      <td>891.000000</td>\n",
       "      <td>891.000000</td>\n",
       "      <td>714.000000</td>\n",
       "      <td>891.000000</td>\n",
       "      <td>891.000000</td>\n",
       "      <td>891.000000</td>\n",
       "    </tr>\n",
       "    <tr>\n",
       "      <th>mean</th>\n",
       "      <td>446.000000</td>\n",
       "      <td>0.383838</td>\n",
       "      <td>2.308642</td>\n",
       "      <td>29.699118</td>\n",
       "      <td>0.523008</td>\n",
       "      <td>0.381594</td>\n",
       "      <td>32.204208</td>\n",
       "    </tr>\n",
       "    <tr>\n",
       "      <th>std</th>\n",
       "      <td>257.353842</td>\n",
       "      <td>0.486592</td>\n",
       "      <td>0.836071</td>\n",
       "      <td>14.526497</td>\n",
       "      <td>1.102743</td>\n",
       "      <td>0.806057</td>\n",
       "      <td>49.693429</td>\n",
       "    </tr>\n",
       "    <tr>\n",
       "      <th>min</th>\n",
       "      <td>1.000000</td>\n",
       "      <td>0.000000</td>\n",
       "      <td>1.000000</td>\n",
       "      <td>0.420000</td>\n",
       "      <td>0.000000</td>\n",
       "      <td>0.000000</td>\n",
       "      <td>0.000000</td>\n",
       "    </tr>\n",
       "    <tr>\n",
       "      <th>25%</th>\n",
       "      <td>223.500000</td>\n",
       "      <td>0.000000</td>\n",
       "      <td>2.000000</td>\n",
       "      <td>20.125000</td>\n",
       "      <td>0.000000</td>\n",
       "      <td>0.000000</td>\n",
       "      <td>7.910400</td>\n",
       "    </tr>\n",
       "    <tr>\n",
       "      <th>50%</th>\n",
       "      <td>446.000000</td>\n",
       "      <td>0.000000</td>\n",
       "      <td>3.000000</td>\n",
       "      <td>28.000000</td>\n",
       "      <td>0.000000</td>\n",
       "      <td>0.000000</td>\n",
       "      <td>14.454200</td>\n",
       "    </tr>\n",
       "    <tr>\n",
       "      <th>75%</th>\n",
       "      <td>668.500000</td>\n",
       "      <td>1.000000</td>\n",
       "      <td>3.000000</td>\n",
       "      <td>38.000000</td>\n",
       "      <td>1.000000</td>\n",
       "      <td>0.000000</td>\n",
       "      <td>31.000000</td>\n",
       "    </tr>\n",
       "    <tr>\n",
       "      <th>max</th>\n",
       "      <td>891.000000</td>\n",
       "      <td>1.000000</td>\n",
       "      <td>3.000000</td>\n",
       "      <td>80.000000</td>\n",
       "      <td>8.000000</td>\n",
       "      <td>6.000000</td>\n",
       "      <td>512.329200</td>\n",
       "    </tr>\n",
       "  </tbody>\n",
       "</table>\n",
       "</div>"
      ],
      "text/plain": [
       "       PassengerId    Survived      Pclass         Age       SibSp  \\\n",
       "count   891.000000  891.000000  891.000000  714.000000  891.000000   \n",
       "mean    446.000000    0.383838    2.308642   29.699118    0.523008   \n",
       "std     257.353842    0.486592    0.836071   14.526497    1.102743   \n",
       "min       1.000000    0.000000    1.000000    0.420000    0.000000   \n",
       "25%     223.500000    0.000000    2.000000   20.125000    0.000000   \n",
       "50%     446.000000    0.000000    3.000000   28.000000    0.000000   \n",
       "75%     668.500000    1.000000    3.000000   38.000000    1.000000   \n",
       "max     891.000000    1.000000    3.000000   80.000000    8.000000   \n",
       "\n",
       "            Parch        Fare  \n",
       "count  891.000000  891.000000  \n",
       "mean     0.381594   32.204208  \n",
       "std      0.806057   49.693429  \n",
       "min      0.000000    0.000000  \n",
       "25%      0.000000    7.910400  \n",
       "50%      0.000000   14.454200  \n",
       "75%      0.000000   31.000000  \n",
       "max      6.000000  512.329200  "
      ]
     },
     "execution_count": 28,
     "metadata": {},
     "output_type": "execute_result"
    }
   ],
   "source": [
    "df.describe()"
   ]
  },
  {
   "cell_type": "markdown",
   "metadata": {},
   "source": [
    "### 4. Visualization of the Data"
   ]
  },
  {
   "cell_type": "markdown",
   "metadata": {},
   "source": [
    "Calculation of values which describe central tendency and dispertion of the data is very useful for understanding of the data, but these numbers are not very demonstrative.\n",
    "<br> The best way to understand those values is to visualize the data."
   ]
  },
  {
   "cell_type": "markdown",
   "metadata": {},
   "source": [
    "__Bar charts__ are commonly used to visualize nominal data. For example, the following is the bar chart for 'Sex' column:"
   ]
  },
  {
   "cell_type": "code",
   "execution_count": 40,
   "metadata": {},
   "outputs": [
    {
     "data": {
      "image/png": "[encoded data removed]",
      "text/plain": [
       "<Figure size 432x288 with 1 Axes>"
      ]
     },
     "metadata": {
      "needs_background": "light"
     },
     "output_type": "display_data"
    }
   ],
   "source": [
    "sex = df['Sex'].unique().tolist()\n",
    "y_pos = np.arange(len(sex))\n",
    "values = df.groupby(['Sex'])['PassengerId'].count().values.tolist()\n",
    " \n",
    "plt.bar(y_pos, values, align='center', alpha=0.5)\n",
    "plt.xticks(y_pos, sex)\n",
    "plt.ylabel('Number of passengers')\n",
    "plt.title('Male and female passengers')\n",
    " \n",
    "plt.show()"
   ]
  },
  {
   "cell_type": "markdown",
   "metadata": {},
   "source": [
    "__Histograms__ are used to visualize interval and ratio data. Looking at histograms we can find out the range of the data, how the data points are distributed along the range. See the example of histogram fot 'Age' column:"
   ]
  },
  {
   "cell_type": "code",
   "execution_count": 44,
   "metadata": {},
   "outputs": [
    {
     "data": {
      "image/png": "[encoded data removed]",
      "text/plain": [
       "<Figure size 432x288 with 1 Axes>"
      ]
     },
     "metadata": {
      "needs_background": "light"
     },
     "output_type": "display_data"
    }
   ],
   "source": [
    "x = df['Age'].values.tolist()\n",
    "num_bins = 25\n",
    "n, bins, patches = plt.hist(x, num_bins, alpha=0.5)\n",
    "\n",
    "plt.ylabel('Number of passengers of age per bin')\n",
    "plt.title('Passengers Age distribution')\n",
    "\n",
    "plt.show()"
   ]
  },
  {
   "cell_type": "markdown",
   "metadata": {},
   "source": [
    "On the histogram we can see:\n",
    "* 'Age' values span from 0 to 80,\n",
    "* the most common value for 'Age' lies around 30 years old."
   ]
  },
  {
   "cell_type": "markdown",
   "metadata": {},
   "source": [
    "__[Box plots](https://en.wikipedia.org/wiki/Box_plot)__ are used to visualize the main statistical features of the data: mean value, mode and [interquartile range (IQR)](https://en.wikipedia.org/wiki/Interquartile_range). See the example of box plot for the 'Age' column:"
   ]
  },
  {
   "cell_type": "code",
   "execution_count": 47,
   "metadata": {},
   "outputs": [
    {
     "data": {
      "image/png": "[encoded data removed]",
      "text/plain": [
       "<Figure size 432x288 with 1 Axes>"
      ]
     },
     "metadata": {
      "needs_background": "light"
     },
     "output_type": "display_data"
    }
   ],
   "source": [
    "red_square = dict(markerfacecolor='r', marker='s')\n",
    "fig, ax = plt.subplots()\n",
    "ax.set_title('Age Box plot')\n",
    "ax.boxplot(df_1['Age'].values.tolist(), vert=False, flierprops=red_square)\n",
    "\n",
    "plt.show()"
   ]
  },
  {
   "cell_type": "markdown",
   "metadata": {},
   "source": [
    "Box and whisker plots quartiles, and the band inside the box is the second quartile (the median). The ends of whiskers represent the lowest datum still within 1.5 IQR of the lower quartile, and the highest datum still within 1.5 IQR of the upper quartile. Data points outside the whiskers are plotted as small squares.\n",
    "<br> Data points plotted as small squares are often considered as outliers and removed from the analysis."
   ]
  },
  {
   "cell_type": "code",
   "execution_count": null,
   "metadata": {},
   "outputs": [],
   "source": []
  },
  {
   "cell_type": "code",
   "execution_count": null,
   "metadata": {},
   "outputs": [],
   "source": []
  }
 ],
 "metadata": {
  "kernelspec": {
   "display_name": "Python 3",
   "language": "python",
   "name": "python3"
  },
  "language_info": {
   "codemirror_mode": {
    "name": "ipython",
    "version": 3
   },
   "file_extension": ".py",
   "mimetype": "text/x-python",
   "name": "python",
   "nbconvert_exporter": "python",
   "pygments_lexer": "ipython3",
   "version": "3.6.8"
  }
 },
 "nbformat": 4,
 "nbformat_minor": 2
}
